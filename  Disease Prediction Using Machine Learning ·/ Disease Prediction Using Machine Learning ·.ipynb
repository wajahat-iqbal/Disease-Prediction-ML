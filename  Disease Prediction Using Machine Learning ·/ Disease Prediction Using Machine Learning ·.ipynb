{
 "cells": [
  {
   "cell_type": "code",
   "execution_count": 7,
   "metadata": {},
   "outputs": [],
   "source": [
    "import numpy as np\n",
    "import tensorflow as tf\n"
   ]
  },
  {
   "cell_type": "code",
   "execution_count": 9,
   "metadata": {},
   "outputs": [
    {
     "name": "stdout",
     "output_type": "stream",
     "text": [
      "model.h5\r\n"
     ]
    }
   ],
   "source": []
  },
  {
   "cell_type": "code",
   "execution_count": 2,
   "metadata": {},
   "outputs": [
    {
     "name": "stderr",
     "output_type": "stream",
     "text": [
      "Using TensorFlow backend.\n"
     ]
    }
   ],
   "source": [
    "from keras.models import Sequential\n",
    "from keras.layers.core import Dense, Dropout, Activation\n",
    "from keras.optimizers import SGD\n",
    "import numpy as np\n",
    "import pandas as pd\n",
    "\n"
   ]
  },
  {
   "cell_type": "code",
   "execution_count": 4,
   "metadata": {},
   "outputs": [
    {
     "data": {
      "text/plain": [
       "['itching',\n",
       " 'skin_rash',\n",
       " 'nodal_skin_eruptions',\n",
       " 'continuous_sneezing',\n",
       " 'shivering',\n",
       " 'chills',\n",
       " 'joint_pain',\n",
       " 'stomach_pain',\n",
       " 'acidity',\n",
       " 'ulcers_on_tongue',\n",
       " 'muscle_wasting',\n",
       " 'vomiting',\n",
       " 'burning_micturition',\n",
       " 'spotting_ urination',\n",
       " 'fatigue',\n",
       " 'weight_gain',\n",
       " 'anxiety',\n",
       " 'cold_hands_and_feets',\n",
       " 'mood_swings',\n",
       " 'weight_loss',\n",
       " 'restlessness',\n",
       " 'lethargy',\n",
       " 'patches_in_throat',\n",
       " 'irregular_sugar_level',\n",
       " 'cough',\n",
       " 'high_fever',\n",
       " 'sunken_eyes',\n",
       " 'breathlessness',\n",
       " 'sweating',\n",
       " 'dehydration',\n",
       " 'indigestion',\n",
       " 'headache',\n",
       " 'yellowish_skin',\n",
       " 'dark_urine',\n",
       " 'nausea',\n",
       " 'loss_of_appetite',\n",
       " 'pain_behind_the_eyes',\n",
       " 'back_pain',\n",
       " 'constipation',\n",
       " 'abdominal_pain',\n",
       " 'diarrhoea',\n",
       " 'mild_fever',\n",
       " 'yellow_urine',\n",
       " 'yellowing_of_eyes',\n",
       " 'acute_liver_failure',\n",
       " 'fluid_overload',\n",
       " 'swelling_of_stomach',\n",
       " 'swelled_lymph_nodes',\n",
       " 'malaise',\n",
       " 'blurred_and_distorted_vision',\n",
       " 'phlegm',\n",
       " 'throat_irritation',\n",
       " 'redness_of_eyes',\n",
       " 'sinus_pressure',\n",
       " 'runny_nose',\n",
       " 'congestion',\n",
       " 'chest_pain',\n",
       " 'weakness_in_limbs',\n",
       " 'fast_heart_rate',\n",
       " 'pain_during_bowel_movements',\n",
       " 'pain_in_anal_region',\n",
       " 'bloody_stool',\n",
       " 'irritation_in_anus',\n",
       " 'neck_pain',\n",
       " 'dizziness',\n",
       " 'cramps',\n",
       " 'bruising',\n",
       " 'obesity',\n",
       " 'swollen_legs',\n",
       " 'swollen_blood_vessels',\n",
       " 'puffy_face_and_eyes',\n",
       " 'enlarged_thyroid',\n",
       " 'brittle_nails',\n",
       " 'swollen_extremeties',\n",
       " 'excessive_hunger',\n",
       " 'extra_marital_contacts',\n",
       " 'drying_and_tingling_lips',\n",
       " 'slurred_speech',\n",
       " 'knee_pain',\n",
       " 'hip_joint_pain',\n",
       " 'muscle_weakness',\n",
       " 'stiff_neck',\n",
       " 'swelling_joints',\n",
       " 'movement_stiffness',\n",
       " 'spinning_movements',\n",
       " 'loss_of_balance',\n",
       " 'unsteadiness',\n",
       " 'weakness_of_one_body_side',\n",
       " 'loss_of_smell',\n",
       " 'bladder_discomfort',\n",
       " 'foul_smell_of urine',\n",
       " 'continuous_feel_of_urine',\n",
       " 'passage_of_gases',\n",
       " 'internal_itching',\n",
       " 'toxic_look_(typhos)',\n",
       " 'depression',\n",
       " 'irritability',\n",
       " 'muscle_pain',\n",
       " 'altered_sensorium',\n",
       " 'red_spots_over_body',\n",
       " 'belly_pain',\n",
       " 'abnormal_menstruation',\n",
       " 'dischromic _patches',\n",
       " 'watering_from_eyes',\n",
       " 'increased_appetite',\n",
       " 'polyuria',\n",
       " 'family_history',\n",
       " 'mucoid_sputum',\n",
       " 'rusty_sputum',\n",
       " 'lack_of_concentration',\n",
       " 'visual_disturbances',\n",
       " 'receiving_blood_transfusion',\n",
       " 'receiving_unsterile_injections',\n",
       " 'coma',\n",
       " 'stomach_bleeding',\n",
       " 'distention_of_abdomen',\n",
       " 'history_of_alcohol_consumption',\n",
       " 'fluid_overload.1',\n",
       " 'blood_in_sputum',\n",
       " 'prominent_veins_on_calf',\n",
       " 'palpitations',\n",
       " 'painful_walking',\n",
       " 'pus_filled_pimples',\n",
       " 'blackheads',\n",
       " 'scurring',\n",
       " 'skin_peeling',\n",
       " 'silver_like_dusting',\n",
       " 'small_dents_in_nails',\n",
       " 'inflammatory_nails',\n",
       " 'blister',\n",
       " 'red_sore_around_nose',\n",
       " 'yellow_crust_ooze',\n",
       " 'prognosis',\n",
       " 'Unnamed: 133']"
      ]
     },
     "execution_count": 4,
     "metadata": {},
     "output_type": "execute_result"
    }
   ],
   "source": [
    "train_data=pd.read_csv(\"dataset/Training.csv\")\n",
    "test_data=pd.read_csv(\"dataset/Testing.csv\")\n",
    "\n",
    "list(train_data.columns)"
   ]
  },
  {
   "cell_type": "code",
   "execution_count": 135,
   "metadata": {},
   "outputs": [],
   "source": [
    "y_train=np.array(train_data['prognosis'])\n",
    "x_train=np.array(train_data.drop(columns=['prognosis','Unnamed: 133']))\n",
    "\n",
    "\n",
    "y_test=np.array(test_data['prognosis'])\n",
    "x_test=np.array(test_data.drop(columns=['prognosis']))"
   ]
  },
  {
   "cell_type": "code",
   "execution_count": 136,
   "metadata": {},
   "outputs": [
    {
     "data": {
      "text/plain": [
       "array([0, 1])"
      ]
     },
     "execution_count": 136,
     "metadata": {},
     "output_type": "execute_result"
    }
   ],
   "source": []
  },
  {
   "cell_type": "code",
   "execution_count": 137,
   "metadata": {},
   "outputs": [
    {
     "data": {
      "text/plain": [
       "array(['(vertigo) Paroymsal  Positional Vertigo', 'AIDS', 'Acne',\n",
       "       'Alcoholic hepatitis', 'Allergy', 'Arthritis', 'Bronchial Asthma',\n",
       "       'Cervical spondylosis', 'Chicken pox', 'Chronic cholestasis',\n",
       "       'Common Cold', 'Dengue', 'Diabetes ',\n",
       "       'Dimorphic hemmorhoids(piles)', 'Drug Reaction',\n",
       "       'Fungal infection', 'GERD', 'Gastroenteritis', 'Heart attack',\n",
       "       'Hepatitis B', 'Hepatitis C', 'Hepatitis D', 'Hepatitis E',\n",
       "       'Hypertension ', 'Hyperthyroidism', 'Hypoglycemia',\n",
       "       'Hypothyroidism', 'Impetigo', 'Jaundice', 'Malaria', 'Migraine',\n",
       "       'Osteoarthristis', 'Paralysis (brain hemorrhage)',\n",
       "       'Peptic ulcer diseae', 'Pneumonia', 'Psoriasis', 'Tuberculosis',\n",
       "       'Typhoid', 'Urinary tract infection', 'Varicose veins',\n",
       "       'hepatitis A'], dtype=object)"
      ]
     },
     "execution_count": 137,
     "metadata": {},
     "output_type": "execute_result"
    }
   ],
   "source": [
    "#np.unique([1, 1, 2, 2, 3, 3])\n",
    "values=np.unique(y_train)\n",
    "values"
   ]
  },
  {
   "cell_type": "code",
   "execution_count": 138,
   "metadata": {},
   "outputs": [],
   "source": [
    "\n",
    "\n",
    "Y_train=np.zeros(shape=(len(y_train),len(values)))\n",
    "k=0\n",
    "for x in y_train:\n",
    "     for i in range(len(values)):\n",
    "            if x==values[i]:\n",
    "                tmp=list(np.zeros(41))\n",
    "                tmp[i]=1\n",
    "                Y_train[k]=tmp\n",
    "                k+=1\n"
   ]
  },
  {
   "cell_type": "code",
   "execution_count": 139,
   "metadata": {},
   "outputs": [
    {
     "data": {
      "text/plain": [
       "array([0., 0., 0., 0., 0., 0., 0., 0., 0., 0., 0., 0., 0., 0., 0., 1., 0.,\n",
       "       0., 0., 0., 0., 0., 0., 0., 0., 0., 0., 0., 0., 0., 0., 0., 0., 0.,\n",
       "       0., 0., 0., 0., 0., 0., 0.])"
      ]
     },
     "execution_count": 139,
     "metadata": {},
     "output_type": "execute_result"
    }
   ],
   "source": [
    "Y_train[0]"
   ]
  },
  {
   "cell_type": "code",
   "execution_count": 140,
   "metadata": {},
   "outputs": [
    {
     "data": {
      "text/plain": [
       "array([0., 1.])"
      ]
     },
     "execution_count": 140,
     "metadata": {},
     "output_type": "execute_result"
    }
   ],
   "source": [
    "np.unique(Y_train)\n"
   ]
  },
  {
   "cell_type": "code",
   "execution_count": 221,
   "metadata": {},
   "outputs": [
    {
     "name": "stderr",
     "output_type": "stream",
     "text": [
      "/home/wajahat/anaconda3/lib/python3.7/site-packages/ipykernel_launcher.py:10: UserWarning: The `nb_epoch` argument in `fit` has been renamed `epochs`.\n",
      "  # Remove the CWD from sys.path while we load stuff.\n"
     ]
    },
    {
     "name": "stdout",
     "output_type": "stream",
     "text": [
      "Epoch 1/3\n",
      "4920/4920 [==============================] - 53s 11ms/step - loss: 0.0765 - accuracy: 0.9797\n",
      "Epoch 2/3\n",
      "4920/4920 [==============================] - 56s 11ms/step - loss: 0.0170 - accuracy: 0.9973\n",
      "Epoch 3/3\n",
      "4920/4920 [==============================] - 53s 11ms/step - loss: 0.0084 - accuracy: 0.9997\n"
     ]
    },
    {
     "data": {
      "text/plain": [
       "<keras.callbacks.callbacks.History at 0x7f6f57218b90>"
      ]
     },
     "execution_count": 221,
     "metadata": {},
     "output_type": "execute_result"
    }
   ],
   "source": [
    "model = Sequential()\n",
    "model.add(Dense(4920, input_dim=132))\n",
    "model.add(Activation('tanh'))\n",
    "model.add(Dense(41))\n",
    "model.add(Activation('sigmoid'))\n",
    "\n",
    "sgd = SGD(lr=0.1)\n",
    "model.compile(loss='binary_crossentropy',metrics=['accuracy'], optimizer=sgd)\n",
    "\n",
    "model.fit(x_train, Y_train, batch_size=1, nb_epoch=3)\n"
   ]
  },
  {
   "cell_type": "code",
   "execution_count": 142,
   "metadata": {},
   "outputs": [],
   "source": [
    "#np.unique([1, 1, 2, 2, 3, 3])\n",
    "test_values=np.unique(y_test)\n",
    "test_values\n",
    "\n",
    "Y_test=np.zeros(shape=(len(y_test),len(test_values)))\n",
    "k=0\n",
    "for x in y_test:\n",
    "     for i in range(len(test_values)):\n",
    "            if x==test_values[i]:\n",
    "                tmp=list(np.zeros(41))\n",
    "                tmp[i]=1\n",
    "                Y_test[k]=tmp\n",
    "                k+=1\n"
   ]
  },
  {
   "cell_type": "code",
   "execution_count": 143,
   "metadata": {},
   "outputs": [],
   "source": [
    "pre=model.predict_proba(x_test)"
   ]
  },
  {
   "cell_type": "code",
   "execution_count": 215,
   "metadata": {},
   "outputs": [
    {
     "data": {
      "text/plain": [
       "0.8571428571428571"
      ]
     },
     "execution_count": 215,
     "metadata": {},
     "output_type": "execute_result"
    }
   ],
   "source": [
    "acc=0;\n",
    "for i in range(len(pre)):\n",
    "    if pre[i].argmax() == Y_test[i].argmax() :\n",
    "        if pre[i].max() >= 0.90:\n",
    "            acc+=1\n",
    "\n",
    "acc=acc/len(pre)\n",
    "acc"
   ]
  },
  {
   "cell_type": "code",
   "execution_count": 217,
   "metadata": {},
   "outputs": [],
   "source": [
    "model.save(\"model/model.h5\")"
   ]
  },
  {
   "cell_type": "code",
   "execution_count": 219,
   "metadata": {},
   "outputs": [
    {
     "name": "stdout",
     "output_type": "stream",
     "text": [
      "WARNING:tensorflow:Error in loading the saved optimizer state. As a result, your model is starting with a freshly initialized optimizer.\n"
     ]
    },
    {
     "data": {
      "text/plain": [
       "3425880"
      ]
     },
     "execution_count": 219,
     "metadata": {},
     "output_type": "execute_result"
    }
   ],
   "source": [
    "MODEL_PATH=\"model/model.h5\"\n",
    "TFLITE_MODEL_PATH=\"model/kmodel.tflite\"\n",
    "\n",
    "model = tf.keras.models.load_model(MODEL_PATH)\n",
    "converter = tf.lite.TFLiteConverter.from_keras_model(model)\n",
    "converted_tflite_model = converter.convert()\n",
    "open(TFLITE_MODEL_PATH, \"wb\").write(converted_tflite_model)"
   ]
  },
  {
   "cell_type": "code",
   "execution_count": 220,
   "metadata": {},
   "outputs": [
    {
     "name": "stdout",
     "output_type": "stream",
     "text": [
      "INPUT TYPES AND SHAP OF THE MODEL \n",
      "\n",
      "[{'name': 'dense_19_input', 'index': 1, 'shape': array([  1, 132], dtype=int32), 'dtype': <class 'numpy.float32'>, 'quantization': (0.0, 0)}]\n",
      "OUTPUT TYPES AND SHAP OF THE MODEL \n",
      "\n",
      "[{'name': 'Identity', 'index': 0, 'shape': array([ 1, 41], dtype=int32), 'dtype': <class 'numpy.float32'>, 'quantization': (0.0, 0)}]\n"
     ]
    }
   ],
   "source": [
    "# Load TFLite model and allocate tensors.\n",
    "interpreter = tf.lite.Interpreter(model_path=TFLITE_MODEL_PATH)\n",
    "\n",
    "# Get input and output tensors.\n",
    "input_details = interpreter.get_input_details()\n",
    "output_details = interpreter.get_output_details()\n",
    "\n",
    "interpreter.allocate_tensors()\n",
    "\n",
    "#interpreter.pre\n",
    "\n",
    "# input details\n",
    "print(\"INPUT TYPES AND SHAP OF THE MODEL \\n\")\n",
    "print(input_details)\n",
    "# output details\n",
    "print(\"OUTPUT TYPES AND SHAP OF THE MODEL \\n\")\n",
    "print(output_details)"
   ]
  },
  {
   "cell_type": "code",
   "execution_count": null,
   "metadata": {},
   "outputs": [],
   "source": []
  }
 ],
 "metadata": {
  "kernelspec": {
   "display_name": "Python 3",
   "language": "python",
   "name": "python3"
  },
  "language_info": {
   "codemirror_mode": {
    "name": "ipython",
    "version": 3
   },
   "file_extension": ".py",
   "mimetype": "text/x-python",
   "name": "python",
   "nbconvert_exporter": "python",
   "pygments_lexer": "ipython3",
   "version": "3.7.6"
  }
 },
 "nbformat": 4,
 "nbformat_minor": 4
}
